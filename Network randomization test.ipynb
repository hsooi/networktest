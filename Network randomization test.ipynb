{
 "cells": [
  {
   "cell_type": "markdown",
   "metadata": {},
   "source": [
    "# Network randomization test\n"
   ]
  },
  {
   "cell_type": "markdown",
   "metadata": {},
   "source": [
    "## Loading the basic data"
   ]
  },
  {
   "cell_type": "code",
   "execution_count": 1,
   "metadata": {
    "ExecuteTime": {
     "end_time": "2018-02-16T19:16:15.673892Z",
     "start_time": "2018-02-16T19:16:01.445259Z"
    }
   },
   "outputs": [
    {
     "name": "stdout",
     "output_type": "stream",
     "text": [
      "Loading HGNC\n",
      "Number of uniprot associated gene symbols: 19875\n",
      "Loading network\n",
      "Number of interactions: 517879\n"
     ]
    }
   ],
   "source": [
    "%matplotlib inline\n",
    "import numpy as np\n",
    "import json\n",
    "from collections import defaultdict\n",
    "import matplotlib.pyplot as plt\n",
    "from IPython.display import Image, display\n",
    "import multiprocessing\n",
    "import os\n",
    "\n",
    "# use HGNC for naming convention\n",
    "hgnc_file = 'hgnc_complete_set.json'\n",
    "# the complete build of protein-protein interactions\n",
    "network_file = 'interaction.publication.uniprot'\n",
    "\n",
    "def load_hgnc_json(input_file, locus_group = ''):\n",
    "    '''\n",
    "    load the identifiers to gene symbol from hgnc collections\n",
    "    the input file type is json\n",
    "    can load a particular type uisng locus_group\n",
    "    '''\n",
    "    hgnc = defaultdict(dict)\n",
    "\n",
    "    terms = {\n",
    "        'ensembl_gene_id': 'ensembl',\n",
    "        'entrez_id': 'entrez',\n",
    "        'refseq_accession': 'refseq',\n",
    "        'uniprot_ids': 'uniprot',\n",
    "        'hgnc_id': 'hgnc'\n",
    "    }\n",
    "\n",
    "    with open(input_file) as fh:\n",
    "        data = json.load(fh)\n",
    "\n",
    "        for doc in data['response']['docs']:\n",
    "            if doc['status'] == 'Approved':\n",
    "                if locus_group == '' or doc['locus_group'] == locus_group:\n",
    "                    for term in terms:\n",
    "                        term_id = doc.get(term, '-')\n",
    "                        if term_id != '-':\n",
    "                            if isinstance(term_id, list):\n",
    "                                for ids in term_id:\n",
    "                                    hgnc[terms[term]][ids] = doc['symbol']\n",
    "                            else:\n",
    "                                hgnc[terms[term]][term_id] = doc['symbol']\n",
    "\n",
    "    return hgnc\n",
    "\n",
    "def load_network(input_file):\n",
    "    network = dict()\n",
    "    \n",
    "    with open(input_file) as ifh:\n",
    "        for line in ifh:\n",
    "            col = line.strip().split('\\t')\n",
    "            iid = (col[0], col[1])\n",
    "            if col[1] < col[0]:\n",
    "                iid = (col[1], col[0])\n",
    "            network[iid] = json.loads(col[4])\n",
    "            \n",
    "    return network\n",
    "\n",
    "\n",
    "# load the genes\n",
    "print('Loading HGNC')\n",
    "hgnc = load_hgnc_json(hgnc_file)\n",
    "\n",
    "# protein-coding genes\n",
    "pcgenes = set()\n",
    "gene2uniprot = {}\n",
    "for item in hgnc['uniprot']:\n",
    "    pcgenes.add(hgnc['uniprot'][item])\n",
    "    gene2uniprot[hgnc['uniprot'][item]] = item\n",
    "print('Number of uniprot associated gene symbols:', len(pcgenes))\n",
    "\n",
    "# ensemble mapping\n",
    "u2ensembl = {}\n",
    "for item in hgnc['ensembl']:\n",
    "    gs = hgnc['ensembl'][item]\n",
    "    if gs in gene2uniprot:\n",
    "        uid = gene2uniprot[gs]\n",
    "        u2ensembl[uid] = item\n",
    "        \n",
    "        \n",
    "# entrez mapping\n",
    "u2entrez = {}\n",
    "for item in hgnc['entrez']:\n",
    "    gs = hgnc['entrez'][item]\n",
    "    if gs in gene2uniprot:\n",
    "        uid = gene2uniprot[gs]\n",
    "        u2entrez[uid] = item\n",
    "        \n",
    "        \n",
    "print('Loading network')\n",
    "complete_network = load_network(network_file)\n",
    "print('Number of interactions:', len(complete_network))\n"
   ]
  },
  {
   "cell_type": "markdown",
   "metadata": {},
   "source": [
    "## Convert the original gene sets to the corresponding uniprot accession\n",
    "\n",
    "Note: the gene symbol in the original file will be checked against the HGNC collection as well."
   ]
  },
  {
   "cell_type": "code",
   "execution_count": 2,
   "metadata": {
    "ExecuteTime": {
     "end_time": "2018-02-16T19:16:15.810309Z",
     "start_time": "2018-02-16T19:16:15.677029Z"
    },
    "collapsed": true
   },
   "outputs": [],
   "source": [
    "def convert_gene_set(input_file, output_file):\n",
    "    with open(input_file) as fhandle:\n",
    "        with open(output_file, 'w') as ofhandle:\n",
    "            line = fhandle.readline()\n",
    "            ofhandle.write('{header}\\tHGNC Gene Symbol\\tUniprot Accession\\n'.format(\n",
    "                header=line.strip()))\n",
    "            for line in fhandle:\n",
    "                col = line.strip().split('\\t')\n",
    "                u1 = hgnc['entrez'].get(col[0])\n",
    "                u2 = hgnc['ensembl'].get(col[1])\n",
    "\n",
    "                # ensure both u1 and u2 is the same\n",
    "                gene = col[2]\n",
    "                if u1 != col[2] and u2 != col[2]:\n",
    "                    #print(line.strip(), u1, u2)\n",
    "                    if u1 == u2:\n",
    "                        gene = u1\n",
    "\n",
    "                acc = '-'\n",
    "                if gene in gene2uniprot:\n",
    "                    acc = gene2uniprot[gene]\n",
    "                    \n",
    "                ofhandle.write('{header}\\t{gene}\\t{uniprot}\\n'.format(\n",
    "                    header=line.strip(),\n",
    "                    gene=gene,\n",
    "                    uniprot=acc))\n",
    "                \n",
    "convert_gene_set('all_genes.txt', 'all_genes_uniprot.txt')\n",
    "convert_gene_set('genes_for_network.txt', 'genes_for_network_uniprot.txt')"
   ]
  },
  {
   "cell_type": "markdown",
   "metadata": {},
   "source": [
    "## Loading the gene sets\n",
    "\n",
    "As the protein-protein interactions are based on uniprot accession, I used the converted genes with uniprot accession for data analysis."
   ]
  },
  {
   "cell_type": "code",
   "execution_count": 3,
   "metadata": {
    "ExecuteTime": {
     "end_time": "2018-02-16T19:16:15.892834Z",
     "start_time": "2018-02-16T19:16:15.814709Z"
    }
   },
   "outputs": [
    {
     "name": "stdout",
     "output_type": "stream",
     "text": [
      "Loading all_genes_uniprot.txt ...\n",
      "Number of genes: 14419\n",
      "Number of protein-coding genes: 14397\n",
      "\n",
      "Loading genes_for_network_uniprot.txt ...\n",
      "Number of genes: 172\n",
      "Number of protein-coding genes: 172\n",
      "\n"
     ]
    }
   ],
   "source": [
    "def load_gene_set(input_file):\n",
    "    geneset = {}\n",
    "    count = [0, 0]\n",
    "    with open(input_file) as fhandle:\n",
    "        # skip header\n",
    "        fhandle.readline()\n",
    "\n",
    "        for line in fhandle:\n",
    "            col = line.strip().split('\\t')\n",
    "            count[0] += 1\n",
    "            if col[4] != '-':\n",
    "                geneset[col[4]] = col[2]\n",
    "                count[1] += 1\n",
    "                \n",
    "    print('Loading', input_file, '...')\n",
    "    print('Number of genes:', count[0])\n",
    "    print('Number of protein-coding genes:', count[1])\n",
    "    print()\n",
    "\n",
    "    return geneset\n",
    "\n",
    "\n",
    "all_genes = load_gene_set('all_genes_uniprot.txt')\n",
    "genes_for_network = load_gene_set('genes_for_network_uniprot.txt')"
   ]
  },
  {
   "cell_type": "markdown",
   "metadata": {},
   "source": [
    "## Build a protein-protein interaction network based on all_genes for randomization test\n",
    "\n",
    "Given that the complete protein-protein interactions are obtained from various conditions, we build a condition-specific network for data analysis using the protein-coding genes in the all_genes.txt."
   ]
  },
  {
   "cell_type": "code",
   "execution_count": 4,
   "metadata": {
    "ExecuteTime": {
     "end_time": "2018-02-16T19:16:15.910729Z",
     "start_time": "2018-02-16T19:16:15.895202Z"
    },
    "collapsed": true
   },
   "outputs": [],
   "source": [
    "def get_interactions(interactions, geneset):\n",
    "    \"\"\"a utility to get the interactions from an interaction network\"\"\"\n",
    "    results = {}\n",
    "    \n",
    "    for iid in interactions:\n",
    "        (u1, u2) = iid\n",
    "        if u1 in geneset and u2 in geneset:\n",
    "            results[iid] = interactions[iid]\n",
    "            \n",
    "    return results"
   ]
  },
  {
   "cell_type": "code",
   "execution_count": 5,
   "metadata": {
    "ExecuteTime": {
     "end_time": "2018-02-16T19:16:16.483317Z",
     "start_time": "2018-02-16T19:16:15.912902Z"
    }
   },
   "outputs": [
    {
     "name": "stdout",
     "output_type": "stream",
     "text": [
      "Number of selected network: 377430\n",
      "Number of selected interactions: 118\n"
     ]
    }
   ],
   "source": [
    "# first we collect all protein coding genes from all_text.txt\n",
    "selected_genes = set(all_genes.keys())\n",
    "# next, we update the list with genes in genes_for_network.txt\n",
    "selected_genes.update(genes_for_network.keys())\n",
    "# finally, we build a condition-specific network using the selected genes\n",
    "network = get_interactions(complete_network, selected_genes)\n",
    "print('Number of selected network:', len(network))\n",
    "\n",
    "# get the interactions for genes_for_network, this will be used as the test\n",
    "# statistics for randomization test\n",
    "selected_interactions = get_interactions(network, genes_for_network)\n",
    "print('Number of selected interactions:', len(selected_interactions))\n"
   ]
  },
  {
   "cell_type": "markdown",
   "metadata": {},
   "source": [
    "## Randomization Test"
   ]
  },
  {
   "cell_type": "code",
   "execution_count": 6,
   "metadata": {
    "ExecuteTime": {
     "end_time": "2018-02-16T19:16:16.797623Z",
     "start_time": "2018-02-16T19:16:16.486007Z"
    },
    "collapsed": true
   },
   "outputs": [],
   "source": [
    "def check_num_interactions(proteins):    \n",
    "    \"\"\"calculate the number of random proteins appear in the selected pathways\"\"\"\n",
    "\n",
    "    t = get_interactions(network, proteins)\n",
    "    return len(t)\n",
    "\n",
    "\n",
    "def randomization_test(num_randomization, background, protein_size, number_of_workers=1, seed=337453426):\n",
    "    \"\"\"perform a randomization test to see the interactions is more significantly connected\"\"\"\n",
    "\n",
    "    # execute the job parallely\n",
    "    process_list = []\n",
    "    for i in range(num_randomization):\n",
    "        np.random.seed(i+seed)\n",
    "        # randomly select the proteins without replacement\n",
    "        rproteins = np.random.choice(background, protein_size, replace=False)\n",
    "        \n",
    "        process_list.append(rproteins)\n",
    "    \n",
    "    pool = multiprocessing.Pool(number_of_workers)\n",
    "    info = pool.imap_unordered(check_num_interactions, process_list)\n",
    "\n",
    "    pool.close()\n",
    "    pool.join()\n",
    "\n",
    "    # collect the run statistics\n",
    "    count = np.zeros(num_randomization)\n",
    "\n",
    "    for i, item in enumerate(info):\n",
    "            count[i] = item\n",
    "           \n",
    "    return count\n",
    "\n",
    "\n",
    "def perform_test(num_permutation, protein_set, proteins_for_network, output_file, worker, seed):\n",
    "    data = randomization_test(num_permutation, list(protein_set), len(proteins_for_network), worker, seed)\n",
    "\n",
    "    # figure of size 12x8 inches\n",
    "    fig, ax = plt.subplots(figsize=(12, 10))\n",
    "\n",
    "    num_test = len(data)\n",
    "    print('Number of test:', num_test)\n",
    "    pvalue = 1.0/num_test\n",
    "    test_stat = len(selected_interactions)\n",
    "    if not all(data < test_stat):\n",
    "        observed = np.size(np.where(data >= test_stat))\n",
    "        pvalue = (np.float(observed)+1.0)/(num_test+1.0)\n",
    "\n",
    "    # plot the proteins distribution\n",
    "    data_range = max(data) - min(data)\n",
    "    # draw histogram\n",
    "    freq, bins, patches = ax.hist(data, 20,\n",
    "                                     facecolor='b', edgecolor='b',\n",
    "                                     alpha=0.75, color='b')\n",
    "    max_freq = max(freq)\n",
    "\n",
    "\n",
    "    # draw the test statistic, and provide some description\n",
    "    ax.axvline(test_stat*0.99, linewidth=3, color='r')\n",
    "    text_pos = 'left'\n",
    "\n",
    "    ax.text(test_stat*1.01, 1.06*np.float(max_freq),\n",
    "                 ('Observed = {}'.format(test_stat) + \n",
    "                 '\\np-value < {:.4g}'.format(pvalue)),\n",
    "                 horizontalalignment=text_pos, fontsize=12)\n",
    "\n",
    "    expected = np.average(data)\n",
    "    ax.axvline(expected, linewidth=3, color='black')\n",
    "    ax.text(expected*0.99, 1.06*np.float(max_freq), 'Expected = {}'.format(int(expected)),\n",
    "                                                                      horizontalalignment='right', fontsize=12)\n",
    "\n",
    "    # adjust the axes\n",
    "    #ax.set_title(labels[i], fontsize=14)\n",
    "    ax.set_ylim(0, max_freq*1.15)\n",
    "    yticks = plt.MaxNLocator(4)\n",
    "    ax.yaxis.set_major_locator(yticks)\n",
    "    ax.set_ylabel('Frequency', fontsize=14)\n",
    "\n",
    "    max_bins = max([max(bins), test_stat])\n",
    "    #max_bins = max(bins)\n",
    "    ax.set_xlim(min(bins)-0.5, max_bins+0.5)\n",
    "    xticks = plt.MaxNLocator(4)\n",
    "    ax.xaxis.set_major_locator(xticks)\n",
    "\n",
    "    fig.tight_layout()\n",
    "    fig.savefig(output_file, dpi=300)\n",
    "    plt.show()\n",
    "    plt.close(fig)\n",
    "\n",
    "    "
   ]
  },
  {
   "cell_type": "markdown",
   "metadata": {},
   "source": [
    "### Performing test by drawing the random proteins from all_genes"
   ]
  },
  {
   "cell_type": "code",
   "execution_count": 7,
   "metadata": {
    "ExecuteTime": {
     "end_time": "2018-02-16T19:55:53.604682Z",
     "start_time": "2018-02-16T19:16:16.799479Z"
    }
   },
   "outputs": [
    {
     "name": "stdout",
     "output_type": "stream",
     "text": [
      "Number of proteins for network: 172\n",
      "Number of test: 10000\n"
     ]
    },
    {
     "data": {
      "image/png": "[encoded data removed]",
      "text/plain": [
       "<matplotlib.figure.Figure at 0x7fcc30b4c278>"
      ]
     },
     "metadata": {},
     "output_type": "display_data"
    }
   ],
   "source": [
    "# for demonstration purpose, we set the number of permutation to 1000, in \n",
    "# reality, it is better to set it to at least 10,000\n",
    "\n",
    "proteins_for_network = set(genes_for_network.keys())\n",
    "print('Number of proteins for network:', len(proteins_for_network))\n",
    "\n",
    "perform_test(10000, selected_genes, proteins_for_network, 'all_genes_test1.png', 20, 23616273)"
   ]
  },
  {
   "cell_type": "markdown",
   "metadata": {},
   "source": [
    "### Performing test by drawing randomized gene set from the complete collection of human protein-coding genes"
   ]
  },
  {
   "cell_type": "code",
   "execution_count": 8,
   "metadata": {
    "ExecuteTime": {
     "end_time": "2018-02-16T20:36:11.993725Z",
     "start_time": "2018-02-16T19:55:53.607103Z"
    }
   },
   "outputs": [
    {
     "name": "stdout",
     "output_type": "stream",
     "text": [
      "Performing test using all HGNC protein-coding genes\n",
      "Number of background proteins: 20030\n",
      "Number of test: 10000\n"
     ]
    },
    {
     "data": {
      "image/png": "[encoded data removed]",
      "text/plain": [
       "<matplotlib.figure.Figure at 0x7fcc30b4bfd0>"
      ]
     },
     "metadata": {},
     "output_type": "display_data"
    }
   ],
   "source": [
    "print('Performing test using all HGNC protein-coding genes')\n",
    "protein_set = set(hgnc['uniprot'].keys())\n",
    "print('Number of background proteins:', len(protein_set))\n",
    "\n",
    "perform_test(10000, protein_set, proteins_for_network, 'all_hgnc_test1.png', 20, 36136273)"
   ]
  },
  {
   "cell_type": "markdown",
   "metadata": {},
   "source": [
    "## Output the selected interactions\n",
    "\n",
    "Save the 172 interactions in different identifiers. \n",
    "\n",
    "* original_genesymbols means the original gene symbols presented in all_gene.txt or genes_for_network.txt\n",
    "* hgnc_genesymbols means the gene symbols derived from HGNC collections, Nov 2017\n",
    "* uniprot menas the Uniprot accession was used. This file can be used to compare different identifiers using all_genes_uniprot.txt or genes_for_network_uniprot.txt generated above"
   ]
  },
  {
   "cell_type": "code",
   "execution_count": 9,
   "metadata": {
    "ExecuteTime": {
     "end_time": "2018-02-17T01:38:00.013830Z",
     "start_time": "2018-02-17T01:37:59.942780Z"
    },
    "collapsed": true
   },
   "outputs": [],
   "source": [
    "ofh = open('interactions_original_genesymbols.sig', 'w')\n",
    "hfh = open('interactions_hgnc_genesymbols.sig', 'w')\n",
    "ufh = open('interactions_uniprot.sig', 'w')\n",
    "\n",
    "ostr = '{gene1}\\tppi\\t{gene2}\\t{info}\\n'\n",
    "\n",
    "for item in selected_interactions:\n",
    "    u1, u2 = item\n",
    "    ppi = []\n",
    "    for db in selected_interactions[item]:\n",
    "        v = [db + '|' + '|'.join(rec) for rec in selected_interactions[item][db]]\n",
    "        ppi.extend(v)\n",
    "    ppi.sort()\n",
    "    ofh.write(ostr.format(gene1=genes_for_network[u1],\n",
    "                          gene2=genes_for_network[u2],\n",
    "                          info=';'.join(ppi)))\n",
    "    \n",
    "    hfh.write(ostr.format(gene1=hgnc['uniprot'][u1],\n",
    "                          gene2=hgnc['uniprot'][u2],\n",
    "                          info=';'.join(ppi)))\n",
    "    \n",
    "    ufh.write(ostr.format(gene1=u1,\n",
    "                          gene2=u2,\n",
    "                          info=';'.join(ppi)))\n",
    "    \n",
    "ofh.close()\n",
    "hfh.close()\n",
    "ufh.close()"
   ]
  },
  {
   "cell_type": "code",
   "execution_count": null,
   "metadata": {
    "collapsed": true
   },
   "outputs": [],
   "source": []
  }
 ],
 "metadata": {
  "kernelspec": {
   "display_name": "Python 3",
   "language": "python",
   "name": "python3"
  },
  "language_info": {
   "codemirror_mode": {
    "name": "ipython",
    "version": 3
   },
   "file_extension": ".py",
   "mimetype": "text/x-python",
   "name": "python",
   "nbconvert_exporter": "python",
   "pygments_lexer": "ipython3",
   "version": "3.6.3"
  }
 },
 "nbformat": 4,
 "nbformat_minor": 2
}
